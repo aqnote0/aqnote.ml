{
 "cells": [
  {
   "cell_type": "code",
   "execution_count": 27,
   "metadata": {},
   "outputs": [
    {
     "name": "stdout",
     "output_type": "stream",
     "text": [
      "         0   [[1.900923  2.2335336]]           [3.292369]              3.19852\n",
      "        20   [[2.3861623 2.5461204]]          [1.1971501]           0.08589645\n",
      "        40   [[2.8666546 2.9885821]]          [0.7287239]          0.019607533\n",
      "        60   [[3.0933607 3.202979 ]]          [0.5048595]          0.004476612\n",
      "        80   [[3.2013173 3.3058038]]         [0.39788702]         0.0010220623\n",
      "       100   [[3.252854  3.3549838]]         [0.34677246]        0.00023334872\n",
      "       120   [[3.2774732 3.3784893]]         [0.32234913]        5.3278138e-05\n",
      "       140   [[3.2892363 3.3897219]]          [0.3106789]        1.2163905e-05\n",
      "       160   [[3.294857  3.3950887]]          [0.3051027]        2.7772141e-06\n",
      "       180   [[3.2975423 3.3976533]]          [0.3024382]        6.3409954e-07\n",
      "       200   [[3.298826  3.3988788]]         [0.30116493]         1.446817e-07\n",
      "       220   [[3.299439  3.3994644]]          [0.3005564]        3.3061006e-08\n",
      "       240   [[3.2997322 3.399744 ]]         [0.30026567]        7.5289925e-09\n",
      "       260   [[3.2998717 3.3998775]]         [0.30012718]        1.7309493e-09\n",
      "       280   [[3.299939  3.3999412]]         [0.30006078]        3.9459266e-10\n",
      "       300   [[3.2999706 3.399972 ]]         [0.30002898]         9.191212e-11\n",
      "       320   [[3.299986  3.3999865]]         [0.30001393]         2.071488e-11\n",
      "       340   [[3.2999933 3.3999937]]         [0.30000663]        4.5906746e-12\n",
      "       360   [[3.2999969 3.399997 ]]         [0.30000302]         1.055156e-12\n",
      "       380   [[3.2999978 3.399998 ]]           [0.300002]         4.656897e-13\n",
      "       400   [[3.2999978 3.399998 ]]           [0.300002]         4.656897e-13\n",
      "       420   [[3.2999978 3.399998 ]]           [0.300002]         4.656897e-13\n",
      "       440   [[3.2999978 3.399998 ]]           [0.300002]         4.656897e-13\n",
      "       460   [[3.2999978 3.399998 ]]           [0.300002]         4.656897e-13\n",
      "       480   [[3.2999978 3.399998 ]]           [0.300002]         4.656897e-13\n"
     ]
    }
   ],
   "source": [
    "import sys\n",
    "import numpy as np\n",
    "import tensorflow as tf\n",
    "\n",
    "# 平面拟合空间随机点\n",
    "\n",
    "# 使用 NumPy 生成假数据(phony data), 总共 100 个点.\n",
    "## 返回A(2,100)数组\n",
    "x_data = np.float32(np.random.rand(2, 100))\n",
    "## 返回[0.100, 0.200] 和 x_data相乘，结果为A(1, 100)\n",
    "y_data = np.dot([3.3, 3.4], x_data) + 0.300\n",
    "\n",
    "# 构造一个线性模型\n",
    "## 返回一个数\n",
    "b = tf.Variable( tf.zeros([1]) )\n",
    "## 返回1*2的张量，值介于-1.0和1.0之间，产生的值是均匀分布的\n",
    "W = tf.Variable( tf.random_uniform([1, 2], -1.0, 1.0) )\n",
    "## 将矩阵W 乘于 矩阵x_data，结果为A(1, 100)\n",
    "y = tf.matmul( W, x_data ) + b\n",
    "\n",
    "# 最小化方差\n",
    "## loss函数：reduce_mean求张量平均值；square对每个元素就2乘方\n",
    "with tf.name_scope('loss'):\n",
    "    loss = tf.reduce_mean(tf.square(y - y_data))\n",
    "    tf.summary.scalar('loss', loss)\n",
    "    \n",
    "## Train方法，梯度下降\n",
    "with tf.name_scope('train'):\n",
    "    train = tf.train.GradientDescentOptimizer(0.5).minimize(loss)\n",
    "\n",
    "# 初始化变量\n",
    "init = tf.global_variables_initializer()\n",
    "session = tf.Session()\n",
    "session.run(init)\n",
    "\n",
    "## TensorBoard\n",
    "merged = tf.summary.merge_all()\n",
    "writer = tf.summary.FileWriter('logs/',session.graph)\n",
    "\n",
    "# 回归\n",
    "for step in range(0, 500):\n",
    "    session.run(train)\n",
    "    if step % 20 == 0:\n",
    "        result = session.run(merged)\n",
    "        writer.add_summary(result, step)\n",
    "        print( '%10s' % step, '%25s' % session.run(W), '%20s' % session.run(b), '%20s' % session.run(loss) )\n",
    "\n",
    "# 得到最佳拟合结果 W: [[0.100  0.200]], b: [0.300]\n"
   ]
  },
  {
   "cell_type": "code",
   "execution_count": null,
   "metadata": {},
   "outputs": [],
   "source": []
  }
 ],
 "metadata": {
  "kernelspec": {
   "display_name": "Python 3",
   "language": "python",
   "name": "python3"
  },
  "language_info": {
   "codemirror_mode": {
    "name": "ipython",
    "version": 3
   },
   "file_extension": ".py",
   "mimetype": "text/x-python",
   "name": "python",
   "nbconvert_exporter": "python",
   "pygments_lexer": "ipython3",
   "version": "3.6.6"
  }
 },
 "nbformat": 4,
 "nbformat_minor": 2
}
